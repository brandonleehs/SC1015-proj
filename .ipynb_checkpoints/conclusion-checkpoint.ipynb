{
 "cells": [
  {
   "cell_type": "markdown",
   "id": "c65fcf0e",
   "metadata": {},
   "source": [
    "# SC1015 Mini-Project\n",
    "\n",
    "Group: 2, FCEE\n",
    "\n",
    "Lee Heng Sheng Brandon, U2322900C \\\n",
    "Alan Lee Leman, U2321753B \\\n",
    "Wee Zi Hao, U2323380H"
   ]
  },
  {
   "cell_type": "markdown",
   "id": "e798a996",
   "metadata": {},
   "source": [
    "### Final Attribute Information\n",
    "\n",
    "> 1. `age`: age in years (Numerical)\n",
    "2. `sex`: 0 = female; 1 = male (Categorical)\n",
    "3. `cp` changed to `chest_pain`: Chest pain type (4 values) (Categorical)\n",
    "4. `trestbps` changed to `blood_pressure`: Resting blood pressure (in mm Hg on admission to the hospital) (Numerical)\n",
    "5. `chol` changed to `cholesterol`: Serum cholesterol in mg/dl (serum cholestoral in mg/dl) (Numerical)\n",
    "6. `fbs` changed to `fasting_blood_sugar`: Fasting blood sugar > 120 mg/dl (1 = true; 0 = false) (Categorical)\n",
    "7. `restecg` changed to `resting_ecg_result`: Resting electrocardiographic results (values 0,1,2) (Categorical)\n",
    "8. `thalach` changed to `max_heart_rate`: Maximum heart rate achieved (in bpm) (Numerical)\n",
    "9. `exang` changed to `exercise_induced_angina`: Exercise induced angina (0 = no; 1 = yes) (Categorical)\n",
    "10. `oldpeak` changed to `st_depression`: ST depression induced by exercise relative to rest (Numerical)\n",
    "11. `new_st_depression`: The presence of ST depression induced by exercise relative to rest (0 = no; 1 = yes) (Categorical)\n",
    "12. `slope`: The slope of the peak exercise ST segment (0, 1, 2) (Categorical)\n",
    "13. `ca` changed to `num_affected_vessels`: Number of major vessels (0-3) colored by fluoroscopy (Categorical)\n",
    "14. `thal` changed to `defect_type`: 1 = normal; 2 = fixed defect; 3 = reversable defect (Categorical)\n",
    "15. `target` changed to `heart_disease`: 0 = no heart disease; 1 = heart disease (Categorical)\n",
    "16. `exercise_problem`: 0 = no exercise problem; 1 = exercise problem (Categorical)"
   ]
  },
  {
   "cell_type": "markdown",
   "id": "697ebd2d",
   "metadata": {},
   "source": [
    "### Original Hypothesis\n",
    "\n",
    "In our Exploratory Data Analysis, we concluded 3 hypotheses:\n",
    "\n",
    "**Hypothesis 1:** `age`, `blood_pressure`, `st_depression`, `slope` and `defect_type` are important factors in predicting heart disease.\n",
    "\n",
    "**Hypothesis 2:** `age`, `st_depression`, `max_heart_rate`, `chest_pain`, `slope`, `num_affected_vessels`and `defect_type` are also important factors in predicting heart disease.\n",
    "\n",
    "**Hypothesis 3:** `exercise_problem` is an important factor in predicting heart disease.\n",
    "\n",
    "Let us compare our original hypothesis with the important features determined by our machine learning models."
   ]
  },
  {
   "cell_type": "markdown",
   "id": "af4dd2c6",
   "metadata": {},
   "source": [
    "### Important Features (Machine Learning Models)\n",
    "\n",
    "Utilising our machine learning models, we were able to identify what the model determined to be important features towards predicting `heart_disease`\n",
    "\n",
    "Decision Tree: `num_affected_vessel`, `defect_type_2` and `cholesterol`\\\n",
    "Random Forest: xxxx\\\n",
    "Logistical Regression: `max_heart_rate`, `chest_pain`, `num_affected_vessels` and `defect_type` "
   ]
  },
  {
   "cell_type": "markdown",
   "id": "f9213711",
   "metadata": {},
   "source": [
    "### Comparison\n",
    "\n",
    "Comparing our original hypothesis against the important features determined by our machine learning models, we can see that...\n",
    "\n",
    "Based on our comparisons above, we can see that...\n",
    "Our new attribute `exercise_problem` also appeared in... making it...\n",
    "Hence, xxx, xxx are the most important features towards predicting `heart_disease`"
   ]
  },
  {
   "cell_type": "markdown",
   "id": "d96f509c",
   "metadata": {},
   "source": [
    "### High Classification Accuracy\n",
    "\n",
    "Across the board for all three of our machine learning models, we were able to obtain extremely high classification accuracy (>0.80)\\\n",
    "\n",
    "Classification Accuracy\n",
    "Decision Tree: \n",
    "Random Forest:\n",
    "Logistical Regression\n",
    "\n",
    "It should be interesting to note that Logistical Regression has a lower classification accuracy than our other 2 models. This may be due to...\n",
    "\n",
    "We suspect that the high classification accuracy obtained by our models is only possible due to our dataset being relatively small (n~1000). For future real world purposes where an abundence of real data is avaliable (n >>10000) these data models might not be able to produce the samel high level of classification accuracy making them unreliable for real world use. Perhaps other more powerful methods of data modeling such as XGBoost and Neural Networks can be considered in those cases. "
   ]
  },
  {
   "cell_type": "markdown",
   "id": "01c89ba8",
   "metadata": {},
   "source": [
    "### False Negative Rates\n",
    "\n",
    "When assessing whether our machine learning models would be a suitable prelimery test for `heart_disease`, we have to take into account the false negatives of our models\\\n",
    "This is extremely important as false negatives in our models would represent the number of people who actually have `heart_disease` but it went undetected in our model. It is our goal to ensure that we are able to detect all cases of `heart_disease` even if it means that we would have an increase in false positives.\n",
    "\n",
    "False Negative Rates\n",
    "Decision Tree:\n",
    "Random Forest:\n",
    "Logistical Regression:\n",
    "\n",
    "Taking a look at the false negative rates in our models, we can see that....\n",
    "Perhaps another approach that we can possibly take for future recommendations would be to tune our hyperparameters towards reducing the number of false negatives in our models rather than improving classification accuracy."
   ]
  },
  {
   "cell_type": "markdown",
   "id": "926a054f",
   "metadata": {},
   "source": [
    "### Recommendations\n",
    "\n",
    "We feel that data modeling with machine learning can be an extremely valuable tool especially for healthcare insitutions where current methods of testing for `heart_disease` are limited by the physical quantity of healthcare workers. In times of healthcare worker shortages such as during the Covid19 pandemic, using machine learning to predict `heart_disease` could be a useful way to ease our healthcare workers burderns and while ensuring that the general population would still be able to obtain the `heart_disease` checks that they required. For implementation into real world insitutions and improving on our project, we outline the following recommendations:\n",
    "\n",
    "1. Using a more powerful method of machine learning such as XGBoost/Neural Networks\n",
    "2. Fine tuning our parameters towards reducing false negatives\n",
    "3. Collecting more attributes (rather than just the 14 that we have) so that more analysis and feature engineering can be done to optimise models\n",
    "4. Support the machine learning with a wealth of supervisied data based on past records of people who have `heart_disease` (Healthcare insitutions should have a abundance of these unlike us)"
   ]
  },
  {
   "cell_type": "markdown",
   "id": "2b707062",
   "metadata": {},
   "source": [
    "### What we learnt\n",
    "\n",
    "The following details what we learn throughout our project\n",
    "\n",
    "1. We learned how to physically spot and detect data abnormallies from statistical summaries\n",
    "2. We learned how to use Quantile-Quantile plots (Q-Q) to compare the distribution of our attributes to another distribution (such as normal distribution in our case)\n",
    "3. "
   ]
  },
  {
   "cell_type": "code",
   "execution_count": null,
   "id": "1f52224b",
   "metadata": {},
   "outputs": [],
   "source": []
  }
 ],
 "metadata": {
  "kernelspec": {
   "display_name": "Python 3 (ipykernel)",
   "language": "python",
   "name": "python3"
  },
  "language_info": {
   "codemirror_mode": {
    "name": "ipython",
    "version": 3
   },
   "file_extension": ".py",
   "mimetype": "text/x-python",
   "name": "python",
   "nbconvert_exporter": "python",
   "pygments_lexer": "ipython3",
   "version": "3.9.13"
  }
 },
 "nbformat": 4,
 "nbformat_minor": 5
}
