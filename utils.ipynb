{
 "cells": [
  {
   "cell_type": "markdown",
   "id": "6afbf403",
   "metadata": {},
   "source": [
    "# Code Graveyard\n",
    "\n",
    "For our own reference. Code that we have removed from our project but may require again are dumped here."
   ]
  },
  {
   "cell_type": "markdown",
   "id": "d5cb3356",
   "metadata": {
    "tags": [
     "remove-cell"
    ]
   },
   "source": [
    "### Dropping Outliers\n",
    "\n",
    "We should also drop any outliers that may affect our model. We can observe some outliers for trestbps, chol, thalach and oldpeak variables from the boxplots. Let us begin by removing them."
   ]
  },
  {
   "cell_type": "code",
   "execution_count": null,
   "id": "f5b2b3f2",
   "metadata": {},
   "outputs": [],
   "source": [
    "# We remove all the outliers all at once so that it does not affect the quantiles of future variables.\n",
    "# To do this, we first store the lower and upper bounds of each variable in a list. \n",
    "\n",
    "lst = []\n",
    "\n",
    "for v in num_var:\n",
    "    IRQ = clean_data[v].quantile(0.75) - clean_data[v].quantile(0.25)\n",
    "    upper = clean_data[v].quantile(0.75) + IRQ * 1.5\n",
    "    lower = clean_data[v].quantile(0.25) - IRQ * 1.5\n",
    "    outliers = clean_data[v][(clean_data[v] < lower) | (clean_data[v] > upper)]\n",
    "    print(f\"{v}: {outliers.shape[0]}\")\n",
    "    lst.append((lower, upper))\n",
    "\n",
    "lst = list(zip(num_var, lst))\n",
    "\n",
    "for v, (lower, upper) in lst:\n",
    "    clean_data = clean_data[(clean_data[v] >= lower) & (clean_data[v] <= upper)]\n",
    "\n",
    "print(\"\\nNew dimension of clean_data:\", clean_data.shape)"
   ]
  },
  {
   "cell_type": "markdown",
   "id": "a3ae0b7a",
   "metadata": {},
   "source": [
    "### Fixing Skew\n",
    "\n",
    "We can also observe some skew for many of the numerical variables. Let us take a closer look at each of their skews by calling `.skew()` on each of the variables."
   ]
  },
  {
   "cell_type": "code",
   "execution_count": 11,
   "id": "99cc9629",
   "metadata": {
    "scrolled": true
   },
   "outputs": [
    {
     "name": "stdout",
     "output_type": "stream",
     "text": [
      "age: -0.21\n",
      "trestbps: 0.29\n",
      "chol: 0.19\n",
      "thalach: -0.43\n",
      "oldpeak: 0.92\n"
     ]
    }
   ],
   "source": [
    "for v in num_var:\n",
    "    print(f\"{v}: {clean_data[v].skew().round(2)}\")"
   ]
  },
  {
   "cell_type": "markdown",
   "id": "9573231a",
   "metadata": {},
   "source": [
    "We can see that the skew values of `age`, `trestbps`, `chol` and `thalach` are below 0.5 and thus quite low. However, `oldpeak` has a very high positive skew value of 0.92, and we should address this. "
   ]
  },
  {
   "cell_type": "code",
   "execution_count": null,
   "id": "d5e91fa5",
   "metadata": {},
   "outputs": [],
   "source": []
  }
 ],
 "metadata": {
  "kernelspec": {
   "display_name": "Python 3 (ipykernel)",
   "language": "python",
   "name": "python3"
  },
  "language_info": {
   "codemirror_mode": {
    "name": "ipython",
    "version": 3
   },
   "file_extension": ".py",
   "mimetype": "text/x-python",
   "name": "python",
   "nbconvert_exporter": "python",
   "pygments_lexer": "ipython3",
   "version": "3.9.13"
  }
 },
 "nbformat": 4,
 "nbformat_minor": 5
}
